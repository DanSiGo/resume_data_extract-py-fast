{
 "cells": [
  {
   "cell_type": "code",
   "execution_count": 18,
   "metadata": {},
   "outputs": [],
   "source": [
    "import os\n",
    "import csv\n",
    "import sys\n",
    "sys.path.append(os.path.abspath(os.path.join(os.getcwd(), '..', 'scripts')))\n"
   ]
  },
  {
   "cell_type": "code",
   "execution_count": 19,
   "metadata": {},
   "outputs": [],
   "source": [
    "from data_treatment import pdf_to_string"
   ]
  },
  {
   "cell_type": "code",
   "execution_count": 20,
   "metadata": {},
   "outputs": [],
   "source": [
    "root_dir = '/home/daniel/Desktop/resume_data_extract-py-fast/machine_learning/data/data'\n",
    "output_file = 'processed_resumes.csv'"
   ]
  },
  {
   "cell_type": "code",
   "execution_count": 21,
   "metadata": {},
   "outputs": [],
   "source": [
    "\n",
    "with open(output_file, 'w', newline='') as csvfile:\n",
    "    writer = csv.writer(csvfile)\n",
    "    writer.writerow(['id', 'field_id', 'field_name', 'resume'])\n",
    "\n",
    "    field_ids = {}\n",
    "    field_id_counter = 1\n",
    "\n",
    "    for field_name in os.listdir(root_dir):\n",
    "        field_dir = os.path.join(root_dir, field_name)\n",
    "\n",
    "        if field_name not in field_ids:\n",
    "            field_ids[field_name] = field_id_counter \n",
    "            field_id_counter += 1\n",
    "\n",
    "    field_id = field_ids[field_name] \n",
    "\n",
    "    for pdf_file in os.listdir(field_dir):\n",
    "        if pdf_file.endswith('.pdf'):\n",
    "            pdf_file_path = os.path.join(field_dir, pdf_file)\n",
    "            resume_id = pdf_file.split('.')[0]\n",
    "\n",
    "            text_final = pdf_to_string(pdf_file_path)\n",
    "\n",
    "            with open(output_file, 'a', newline='') as csvfile:\n",
    "                writer = csv.writer(csvfile)\n",
    "                writer.writerow([resume_id, field_id, field_name, text_final])\n"
   ]
  },
  {
   "cell_type": "code",
   "execution_count": null,
   "metadata": {},
   "outputs": [],
   "source": []
  }
 ],
 "metadata": {
  "kernelspec": {
   "display_name": "venv",
   "language": "python",
   "name": "python3"
  },
  "language_info": {
   "codemirror_mode": {
    "name": "ipython",
    "version": 3
   },
   "file_extension": ".py",
   "mimetype": "text/x-python",
   "name": "python",
   "nbconvert_exporter": "python",
   "pygments_lexer": "ipython3",
   "version": "3.12.3"
  }
 },
 "nbformat": 4,
 "nbformat_minor": 2
}
